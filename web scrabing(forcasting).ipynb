{
 "cells": [
  {
   "cell_type": "code",
   "execution_count": 1,
   "metadata": {},
   "outputs": [],
   "source": [
    "import pandas as pd\n",
    "import numpy as np\n",
    "import seaborn as sns\n",
    "import matplotlib.pyplot as plt\n",
    "from pandas import Series, DataFrame\n",
    "%matplotlib inline\n",
    "sns.set_style('whitegrid')"
   ]
  },
  {
   "cell_type": "code",
   "execution_count": 2,
   "metadata": {},
   "outputs": [],
   "source": [
    "from datetime import datetime"
   ]
  },
  {
   "cell_type": "code",
   "execution_count": 3,
   "metadata": {},
   "outputs": [],
   "source": [
    "import pandas_datareader as pdr"
   ]
  },
  {
   "cell_type": "code",
   "execution_count": 4,
   "metadata": {},
   "outputs": [],
   "source": [
    "from bs4 import BeautifulSoup\n",
    "import requests"
   ]
  },
  {
   "cell_type": "code",
   "execution_count": 5,
   "metadata": {},
   "outputs": [],
   "source": [
    "url = 'http://www.ucop.edu/operating-budget/budgets-and-reports/legislative-reports/2013-14-legislative-session.html'"
   ]
  },
  {
   "cell_type": "code",
   "execution_count": 6,
   "metadata": {},
   "outputs": [],
   "source": [
    "result = requests.get(url)\n",
    "c = result.content"
   ]
  },
  {
   "cell_type": "code",
   "execution_count": 7,
   "metadata": {},
   "outputs": [],
   "source": [
    "soup = BeautifulSoup(c)"
   ]
  },
  {
   "cell_type": "code",
   "execution_count": 8,
   "metadata": {},
   "outputs": [],
   "source": [
    "summary = soup.find(\"div\",{'class':'list-land','id':'content'})"
   ]
  },
  {
   "cell_type": "code",
   "execution_count": 9,
   "metadata": {},
   "outputs": [],
   "source": [
    "tables = summary.find_all('table')\n",
    "tables[1]"
   ]
  },
  {
   "cell_type": "code",
   "execution_count": 10,
   "metadata": {},
   "outputs": [
    {
     "name": "stdout",
     "output_type": "stream",
     "text": [
      "1\n",
      "08/01/13\n",
      "2013-14 (EDU 92495) Proposed Capital Outlay Projects (2013-14 only) (pdf)\n",
      "2\n",
      "09/01/13\n",
      "2014-15  (EDU 92495) Proposed Capital Outlay Projects (pdf)\n",
      "3\n",
      "11/01/13\n",
      "Utilization of Classroom and Teaching Laboratories (pdf)\n",
      "4\n",
      "11/01/13\n",
      "Instruction and Research Space Summary & Analysis (pdf)\n",
      "5\n",
      "11/15/13\n",
      "Statewide Energy Partnership Program (pdf)\n",
      "6\n",
      "11/30/13\n",
      "2013-23 Capital Financial Plan (pdf)\n",
      "7\n",
      "11/30/13\n",
      "Projects Savings Funded from Capital Outlay Bond Funds (pdf)\n",
      "8\n",
      "12/01/13\n",
      "Streamlined Capital Projects Funded from Capital (pdf)\n",
      "9\n",
      "01/01/14\n",
      "Annual General Obligation Bonds Accountability (pdf)\n",
      "10\n",
      "01/01/14\n",
      "Small Business Utilization (pdf)\n",
      "11\n",
      "01/01/14\n",
      "Institutional Financial Aid Programs - Preliminary report (pdf)\n",
      "12\n",
      "01/10/14\n",
      "Summer Enrollment (pdf)\n",
      "13\n",
      "01/15/14\n",
      "Contracting Out for Services at Newly Developed Facilities (pdf)\n",
      "14\n",
      "03/01/14\n",
      "Performance Measures (pdf)\n",
      "15\n",
      "03/01/14\n",
      "Entry Level Writing Requirement (pdf)\n",
      "16\n",
      "03/31/14\n",
      "Annual Report on Student Financial Support (pdf)\n",
      "17\n",
      "04/01/14\n",
      "Unique Statewide Pupil Identifier (pdf)\n",
      "18\n",
      "04/01/14\n",
      "Riverside School of Medicine (pdf)\n",
      "19\n",
      "04/01/14\n",
      "SAPEP Funds and Outcomes - N/A\n",
      "20\n",
      "05/15/14\n",
      "Receipt and Use of Lottery Funds (pdf)\n",
      "21\n",
      "07/01/14\n",
      "Cogeneration and Energy Consv Major Capital Projects (pdf)\n",
      "\n",
      "\n",
      "\n",
      "\n",
      "\n",
      "\n",
      " \n",
      "Future Reports\n",
      "\n",
      "\n",
      "24\n",
      "12-\n",
      "Breast Cancer Research Fund\n",
      "25\n",
      "12-31-15\n",
      "Cigarette and Tobacco Products Surtax Research Program\n",
      "26\n",
      "01-01-16\n",
      "Best Value Program\n",
      "27\n",
      "01-01-16\n",
      "California Subject Matter Programs\n",
      "28\n",
      "04-01-16\n",
      "COSMOS Program Outcomes\n"
     ]
    }
   ],
   "source": [
    "data = []\n",
    "rows = tables[0].findAll('tr')\n",
    "for tr in rows:\n",
    "    cols = tr.findAll('td')\n",
    "    for td in cols:\n",
    "        text = td.find(text=True) \n",
    "        print (text),\n",
    "        data.append(text)"
   ]
  },
  {
   "cell_type": "code",
   "execution_count": 11,
   "metadata": {},
   "outputs": [],
   "source": [
    "#data"
   ]
  },
  {
   "cell_type": "code",
   "execution_count": 12,
   "metadata": {},
   "outputs": [],
   "source": [
    "reports = []\n",
    "date = []\n",
    "index = 0\n",
    "\n",
    "for item in data:\n",
    "    if 'pdf' in item:\n",
    "        date.append(data[index-1])\n",
    "        reports.append(item.replace(u'\\xa0', u' '))\n",
    "                    \n",
    "    index += 1"
   ]
  },
  {
   "cell_type": "code",
   "execution_count": 13,
   "metadata": {},
   "outputs": [],
   "source": [
    "date = Series(date)\n",
    "reports = Series(reports)"
   ]
  },
  {
   "cell_type": "code",
   "execution_count": 14,
   "metadata": {},
   "outputs": [],
   "source": [
    "legislative_df = pd.concat([date,reports],axis=1)"
   ]
  },
  {
   "cell_type": "code",
   "execution_count": 15,
   "metadata": {},
   "outputs": [],
   "source": [
    "legislative_df.columns = ['Date','Reports']\n"
   ]
  },
  {
   "cell_type": "code",
   "execution_count": 16,
   "metadata": {},
   "outputs": [
    {
     "data": {
      "text/html": [
       "<div>\n",
       "<style scoped>\n",
       "    .dataframe tbody tr th:only-of-type {\n",
       "        vertical-align: middle;\n",
       "    }\n",
       "\n",
       "    .dataframe tbody tr th {\n",
       "        vertical-align: top;\n",
       "    }\n",
       "\n",
       "    .dataframe thead th {\n",
       "        text-align: right;\n",
       "    }\n",
       "</style>\n",
       "<table border=\"1\" class=\"dataframe\">\n",
       "  <thead>\n",
       "    <tr style=\"text-align: right;\">\n",
       "      <th></th>\n",
       "      <th>Date</th>\n",
       "      <th>Reports</th>\n",
       "    </tr>\n",
       "  </thead>\n",
       "  <tbody>\n",
       "    <tr>\n",
       "      <th>0</th>\n",
       "      <td>08/01/13</td>\n",
       "      <td>2013-14 (EDU 92495) Proposed Capital Outlay Pr...</td>\n",
       "    </tr>\n",
       "    <tr>\n",
       "      <th>1</th>\n",
       "      <td>09/01/13</td>\n",
       "      <td>2014-15  (EDU 92495) Proposed Capital Outlay P...</td>\n",
       "    </tr>\n",
       "    <tr>\n",
       "      <th>2</th>\n",
       "      <td>11/01/13</td>\n",
       "      <td>Utilization of Classroom and Teaching Laborato...</td>\n",
       "    </tr>\n",
       "    <tr>\n",
       "      <th>3</th>\n",
       "      <td>11/01/13</td>\n",
       "      <td>Instruction and Research Space Summary &amp; Analy...</td>\n",
       "    </tr>\n",
       "    <tr>\n",
       "      <th>4</th>\n",
       "      <td>11/15/13</td>\n",
       "      <td>Statewide Energy Partnership Program (pdf)</td>\n",
       "    </tr>\n",
       "    <tr>\n",
       "      <th>5</th>\n",
       "      <td>11/30/13</td>\n",
       "      <td>2013-23 Capital Financial Plan (pdf)</td>\n",
       "    </tr>\n",
       "    <tr>\n",
       "      <th>6</th>\n",
       "      <td>11/30/13</td>\n",
       "      <td>Projects Savings Funded from Capital Outlay Bo...</td>\n",
       "    </tr>\n",
       "    <tr>\n",
       "      <th>7</th>\n",
       "      <td>12/01/13</td>\n",
       "      <td>Streamlined Capital Projects Funded from Capit...</td>\n",
       "    </tr>\n",
       "    <tr>\n",
       "      <th>8</th>\n",
       "      <td>01/01/14</td>\n",
       "      <td>Annual General Obligation Bonds Accountability...</td>\n",
       "    </tr>\n",
       "    <tr>\n",
       "      <th>9</th>\n",
       "      <td>01/01/14</td>\n",
       "      <td>Small Business Utilization (pdf)</td>\n",
       "    </tr>\n",
       "    <tr>\n",
       "      <th>10</th>\n",
       "      <td>01/01/14</td>\n",
       "      <td>Institutional Financial Aid Programs - Prelimi...</td>\n",
       "    </tr>\n",
       "    <tr>\n",
       "      <th>11</th>\n",
       "      <td>01/10/14</td>\n",
       "      <td>Summer Enrollment (pdf)</td>\n",
       "    </tr>\n",
       "    <tr>\n",
       "      <th>12</th>\n",
       "      <td>01/15/14</td>\n",
       "      <td>Contracting Out for Services at Newly Develope...</td>\n",
       "    </tr>\n",
       "    <tr>\n",
       "      <th>13</th>\n",
       "      <td>03/01/14</td>\n",
       "      <td>Performance Measures (pdf)</td>\n",
       "    </tr>\n",
       "    <tr>\n",
       "      <th>14</th>\n",
       "      <td>03/01/14</td>\n",
       "      <td>Entry Level Writing Requirement (pdf)</td>\n",
       "    </tr>\n",
       "    <tr>\n",
       "      <th>15</th>\n",
       "      <td>03/31/14</td>\n",
       "      <td>Annual Report on Student Financial Support (pdf)</td>\n",
       "    </tr>\n",
       "    <tr>\n",
       "      <th>16</th>\n",
       "      <td>04/01/14</td>\n",
       "      <td>Unique Statewide Pupil Identifier (pdf)</td>\n",
       "    </tr>\n",
       "    <tr>\n",
       "      <th>17</th>\n",
       "      <td>04/01/14</td>\n",
       "      <td>Riverside School of Medicine (pdf)</td>\n",
       "    </tr>\n",
       "    <tr>\n",
       "      <th>18</th>\n",
       "      <td>05/15/14</td>\n",
       "      <td>Receipt and Use of Lottery Funds (pdf)</td>\n",
       "    </tr>\n",
       "    <tr>\n",
       "      <th>19</th>\n",
       "      <td>07/01/14</td>\n",
       "      <td>Cogeneration and Energy Consv Major Capital Pr...</td>\n",
       "    </tr>\n",
       "  </tbody>\n",
       "</table>\n",
       "</div>"
      ],
      "text/plain": [
       "        Date                                            Reports\n",
       "0   08/01/13  2013-14 (EDU 92495) Proposed Capital Outlay Pr...\n",
       "1   09/01/13  2014-15  (EDU 92495) Proposed Capital Outlay P...\n",
       "2   11/01/13  Utilization of Classroom and Teaching Laborato...\n",
       "3   11/01/13  Instruction and Research Space Summary & Analy...\n",
       "4   11/15/13         Statewide Energy Partnership Program (pdf)\n",
       "5   11/30/13               2013-23 Capital Financial Plan (pdf)\n",
       "6   11/30/13  Projects Savings Funded from Capital Outlay Bo...\n",
       "7   12/01/13  Streamlined Capital Projects Funded from Capit...\n",
       "8   01/01/14  Annual General Obligation Bonds Accountability...\n",
       "9   01/01/14                   Small Business Utilization (pdf)\n",
       "10  01/01/14  Institutional Financial Aid Programs - Prelimi...\n",
       "11  01/10/14                            Summer Enrollment (pdf)\n",
       "12  01/15/14  Contracting Out for Services at Newly Develope...\n",
       "13  03/01/14                         Performance Measures (pdf)\n",
       "14  03/01/14              Entry Level Writing Requirement (pdf)\n",
       "15  03/31/14   Annual Report on Student Financial Support (pdf)\n",
       "16  04/01/14            Unique Statewide Pupil Identifier (pdf)\n",
       "17  04/01/14                 Riverside School of Medicine (pdf)\n",
       "18  05/15/14             Receipt and Use of Lottery Funds (pdf)\n",
       "19  07/01/14  Cogeneration and Energy Consv Major Capital Pr..."
      ]
     },
     "execution_count": 16,
     "metadata": {},
     "output_type": "execute_result"
    }
   ],
   "source": [
    "legislative_df"
   ]
  },
  {
   "cell_type": "code",
   "execution_count": 17,
   "metadata": {},
   "outputs": [],
   "source": [
    "page = requests.get('https://forecast.weather.gov/MapClick.php?lat=34.05349000000007&lon=-118.24531999999999#.XiRultQzbIU')"
   ]
  },
  {
   "cell_type": "code",
   "execution_count": 18,
   "metadata": {},
   "outputs": [],
   "source": [
    "soup = BeautifulSoup(page.content, 'html.parser')"
   ]
  },
  {
   "cell_type": "code",
   "execution_count": 19,
   "metadata": {},
   "outputs": [],
   "source": [
    "week = soup.find(id='seven-day-forecast-body')"
   ]
  },
  {
   "cell_type": "code",
   "execution_count": 20,
   "metadata": {},
   "outputs": [],
   "source": [
    "items = week.find_all(class_='tombstone-container')"
   ]
  },
  {
   "cell_type": "code",
   "execution_count": 21,
   "metadata": {},
   "outputs": [
    {
     "name": "stdout",
     "output_type": "stream",
     "text": [
      "<div class=\"tombstone-container\">\n",
      "<p class=\"period-name\">Tonight<br/><br/></p>\n",
      "<p><img alt=\"Tonight: Cloudy, with a low around 53. Calm wind. \" class=\"forecast-icon\" src=\"newimages/medium/novc.png\" title=\"Tonight: Cloudy, with a low around 53. Calm wind. \"/></p><p class=\"short-desc\">Cloudy</p><p class=\"temp temp-low\">Low: 53 °F</p></div>\n"
     ]
    }
   ],
   "source": [
    "print(items[0])"
   ]
  },
  {
   "cell_type": "code",
   "execution_count": 22,
   "metadata": {},
   "outputs": [
    {
     "name": "stdout",
     "output_type": "stream",
     "text": [
      "Tonight\n"
     ]
    }
   ],
   "source": [
    "print(items[0].find(class_='period-name').get_text())"
   ]
  },
  {
   "cell_type": "code",
   "execution_count": 23,
   "metadata": {},
   "outputs": [
    {
     "name": "stdout",
     "output_type": "stream",
     "text": [
      "Cloudy\n"
     ]
    }
   ],
   "source": [
    "print(items[0].find(class_='short-desc').get_text())"
   ]
  },
  {
   "cell_type": "code",
   "execution_count": 24,
   "metadata": {},
   "outputs": [
    {
     "name": "stdout",
     "output_type": "stream",
     "text": [
      "Low: 53 °F\n"
     ]
    }
   ],
   "source": [
    "print(items[0].find(class_='temp').get_text())"
   ]
  },
  {
   "cell_type": "code",
   "execution_count": 25,
   "metadata": {},
   "outputs": [],
   "source": [
    "period_name = [item.find(class_='period-name').get_text() for item in items]"
   ]
  },
  {
   "cell_type": "code",
   "execution_count": 26,
   "metadata": {},
   "outputs": [],
   "source": [
    "short_descriptions = [item.find(class_='short-desc').get_text() for item in items]"
   ]
  },
  {
   "cell_type": "code",
   "execution_count": 27,
   "metadata": {},
   "outputs": [],
   "source": [
    "temperature = [item.find(class_='temp').get_text() for item in items]"
   ]
  },
  {
   "cell_type": "code",
   "execution_count": 28,
   "metadata": {},
   "outputs": [
    {
     "name": "stdout",
     "output_type": "stream",
     "text": [
      "['Tonight', 'M.L.KingDay', 'MondayNight', 'Tuesday', 'TuesdayNight', 'Wednesday', 'WednesdayNight', 'Thursday', 'ThursdayNight']\n",
      "['Cloudy', 'Mostly Cloudy', 'Slight ChanceShowers', 'Mostly Sunny', 'Partly Cloudy', 'Mostly Sunny', 'Mostly Clear', 'Sunny', 'Partly Cloudy']\n",
      "['Low: 53 °F', 'High: 68 °F', 'Low: 51 °F', 'High: 66 °F', 'Low: 51 °F', 'High: 67 °F', 'Low: 50 °F', 'High: 73 °F', 'Low: 50 °F']\n"
     ]
    }
   ],
   "source": [
    "print(period_name)\n",
    "print(short_descriptions)\n",
    "print(temperature)"
   ]
  },
  {
   "cell_type": "code",
   "execution_count": 29,
   "metadata": {},
   "outputs": [],
   "source": [
    "wheather =pd.DataFrame({'period':period_name,'short_descriptions':short_descriptions,'temperature':temperature})"
   ]
  },
  {
   "cell_type": "code",
   "execution_count": 30,
   "metadata": {},
   "outputs": [
    {
     "name": "stdout",
     "output_type": "stream",
     "text": [
      "           period    short_descriptions  temperature\n",
      "0         Tonight                Cloudy   Low: 53 °F\n",
      "1     M.L.KingDay         Mostly Cloudy  High: 68 °F\n",
      "2     MondayNight  Slight ChanceShowers   Low: 51 °F\n",
      "3         Tuesday          Mostly Sunny  High: 66 °F\n",
      "4    TuesdayNight         Partly Cloudy   Low: 51 °F\n",
      "5       Wednesday          Mostly Sunny  High: 67 °F\n",
      "6  WednesdayNight          Mostly Clear   Low: 50 °F\n",
      "7        Thursday                 Sunny  High: 73 °F\n",
      "8   ThursdayNight         Partly Cloudy   Low: 50 °F\n"
     ]
    }
   ],
   "source": [
    "print(wheather)"
   ]
  },
  {
   "cell_type": "code",
   "execution_count": null,
   "metadata": {},
   "outputs": [],
   "source": []
  }
 ],
 "metadata": {
  "kernelspec": {
   "display_name": "Python 3",
   "language": "python",
   "name": "python3"
  },
  "language_info": {
   "codemirror_mode": {
    "name": "ipython",
    "version": 3
   },
   "file_extension": ".py",
   "mimetype": "text/x-python",
   "name": "python",
   "nbconvert_exporter": "python",
   "pygments_lexer": "ipython3",
   "version": "3.7.4"
  }
 },
 "nbformat": 4,
 "nbformat_minor": 2
}
